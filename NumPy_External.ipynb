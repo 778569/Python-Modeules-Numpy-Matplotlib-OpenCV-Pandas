{
  "nbformat": 4,
  "nbformat_minor": 0,
  "metadata": {
    "colab": {
      "provenance": []
    },
    "kernelspec": {
      "name": "python3",
      "display_name": "Python 3"
    },
    "language_info": {
      "name": "python"
    }
  },
  "cells": [
    {
      "cell_type": "markdown",
      "source": [
        "**NumPy**\n",
        "* External module\n",
        "* jupyter note books and google co lab has already installed.\n",
        "* NumPy and mathplotlib Altanative for mathlab in python\n",
        "* stand for numarical python\n",
        "* multi demantional array operations\n",
        "* data set is always are multi demantional arrays."
      ],
      "metadata": {
        "id": "s0fNNlWKOBVH"
      }
    },
    {
      "cell_type": "markdown",
      "source": [
        "**Conert List, array to numPy array**"
      ],
      "metadata": {
        "id": "VPbD6j2ACvRg"
      }
    },
    {
      "cell_type": "code",
      "source": [
        "import numpy as np\n",
        "\n",
        "array1 = [[11,12,13,14],\n",
        "          [22,23,24,25],\n",
        "          [33,34,35,36]]\n",
        "\n",
        "Nparray = np.array(array1)\n",
        "print(Nparray)"
      ],
      "metadata": {
        "colab": {
          "base_uri": "https://localhost:8080/"
        },
        "id": "9akTZ6X6W2Zx",
        "outputId": "8218a60f-9f81-4e82-90ed-3621284948ae"
      },
      "execution_count": 1,
      "outputs": [
        {
          "output_type": "stream",
          "name": "stdout",
          "text": [
            "[[11 12 13 14]\n",
            " [22 23 24 25]\n",
            " [33 34 35 36]]\n"
          ]
        }
      ]
    },
    {
      "cell_type": "code",
      "source": [
        "X=[1,2,3,4]\n",
        "array2= np.array(X)\n",
        "print(array2)"
      ],
      "metadata": {
        "colab": {
          "base_uri": "https://localhost:8080/"
        },
        "id": "ubRVvTpXC2ax",
        "outputId": "719362f8-60d7-4014-9790-b6cbc0bc1829"
      },
      "execution_count": 3,
      "outputs": [
        {
          "output_type": "stream",
          "name": "stdout",
          "text": [
            "[1 2 3 4]\n"
          ]
        }
      ]
    },
    {
      "cell_type": "code",
      "source": [
        "Y=[[1,2,3,4],[10,20,30,40]]\n",
        "array03= np.asarray(Y)\n",
        "print(array03)"
      ],
      "metadata": {
        "colab": {
          "base_uri": "https://localhost:8080/"
        },
        "id": "37PqRM12DJtS",
        "outputId": "94be71a9-45df-4cf2-a51f-17d599d3ec33"
      },
      "execution_count": 4,
      "outputs": [
        {
          "output_type": "stream",
          "name": "stdout",
          "text": [
            "[[ 1  2  3  4]\n",
            " [10 20 30 40]]\n"
          ]
        }
      ]
    },
    {
      "cell_type": "markdown",
      "source": [
        "**Check Dementions - Using \"ndim\"**"
      ],
      "metadata": {
        "id": "tRFXfBAEE_m-"
      }
    },
    {
      "cell_type": "code",
      "source": [
        "print(Nparray.ndim) #2D array\n",
        "print(array2.ndim)# 1D array\n",
        "print(array03.ndim) #2D array"
      ],
      "metadata": {
        "colab": {
          "base_uri": "https://localhost:8080/"
        },
        "id": "HJN6mGuyFF-j",
        "outputId": "ea630276-9e24-4c64-ad63-cb23bea963f9"
      },
      "execution_count": 6,
      "outputs": [
        {
          "output_type": "stream",
          "name": "stdout",
          "text": [
            "2\n",
            "1\n",
            "2\n"
          ]
        }
      ]
    },
    {
      "cell_type": "markdown",
      "source": [
        "**Check the shape - Howmany rows and coloumns**"
      ],
      "metadata": {
        "id": "vS4MF0cSF5Ao"
      }
    },
    {
      "cell_type": "code",
      "source": [
        "print(Nparray.shape)\n",
        "print(array2.shape)\n",
        "print(array03.shape)"
      ],
      "metadata": {
        "colab": {
          "base_uri": "https://localhost:8080/"
        },
        "id": "61Bxmfl7GAeJ",
        "outputId": "124fed70-015e-4e43-bcd4-3a185951f245"
      },
      "execution_count": 7,
      "outputs": [
        {
          "output_type": "stream",
          "name": "stdout",
          "text": [
            "(3, 4)\n",
            "(4,)\n",
            "(2, 4)\n"
          ]
        }
      ]
    },
    {
      "cell_type": "markdown",
      "source": [
        "**np.reshape()**"
      ],
      "metadata": {
        "id": "Wj1ixnrzIckD"
      }
    },
    {
      "cell_type": "code",
      "source": [
        "print(Nparray)"
      ],
      "metadata": {
        "colab": {
          "base_uri": "https://localhost:8080/"
        },
        "id": "Oj2K32rCIjZs",
        "outputId": "6e93d91c-7d23-4b2b-e9a8-5a7f418026c5"
      },
      "execution_count": 8,
      "outputs": [
        {
          "output_type": "stream",
          "name": "stdout",
          "text": [
            "[[11 12 13 14]\n",
            " [22 23 24 25]\n",
            " [33 34 35 36]]\n"
          ]
        }
      ]
    },
    {
      "cell_type": "code",
      "source": [
        "print(Nparray.shape)"
      ],
      "metadata": {
        "colab": {
          "base_uri": "https://localhost:8080/"
        },
        "id": "GVHDaicxIpWU",
        "outputId": "4d85a025-1739-48ef-af79-b78f0c4e0480"
      },
      "execution_count": 9,
      "outputs": [
        {
          "output_type": "stream",
          "name": "stdout",
          "text": [
            "(3, 4)\n"
          ]
        }
      ]
    },
    {
      "cell_type": "code",
      "source": [
        "reshapearray = Nparray.reshape(4,3)\n",
        "print(reshapearray)"
      ],
      "metadata": {
        "colab": {
          "base_uri": "https://localhost:8080/"
        },
        "id": "Yqe5SKPBK88I",
        "outputId": "cdc6d6c5-5821-4bb3-8cf2-b0e9ff94c3c0"
      },
      "execution_count": 10,
      "outputs": [
        {
          "output_type": "stream",
          "name": "stdout",
          "text": [
            "[[11 12 13]\n",
            " [14 22 23]\n",
            " [24 25 33]\n",
            " [34 35 36]]\n"
          ]
        }
      ]
    },
    {
      "cell_type": "code",
      "source": [
        "reshapearray1 = Nparray.reshape(6,2)\n",
        "print(reshapearray1)"
      ],
      "metadata": {
        "colab": {
          "base_uri": "https://localhost:8080/"
        },
        "id": "24rZP5NzLMpf",
        "outputId": "a91a1c34-78a7-474b-c475-321fa973c4b4"
      },
      "execution_count": 12,
      "outputs": [
        {
          "output_type": "stream",
          "name": "stdout",
          "text": [
            "[[11 12]\n",
            " [13 14]\n",
            " [22 23]\n",
            " [24 25]\n",
            " [33 34]\n",
            " [35 36]]\n"
          ]
        }
      ]
    },
    {
      "cell_type": "code",
      "source": [
        "reshapearray1 = Nparray.reshape(12,1)\n",
        "print(reshapearray1)"
      ],
      "metadata": {
        "colab": {
          "base_uri": "https://localhost:8080/"
        },
        "id": "487waqHaMCGi",
        "outputId": "11b9e4ca-3a97-494f-8e0a-f670f15d3006"
      },
      "execution_count": 13,
      "outputs": [
        {
          "output_type": "stream",
          "name": "stdout",
          "text": [
            "[[11]\n",
            " [12]\n",
            " [13]\n",
            " [14]\n",
            " [22]\n",
            " [23]\n",
            " [24]\n",
            " [25]\n",
            " [33]\n",
            " [34]\n",
            " [35]\n",
            " [36]]\n"
          ]
        }
      ]
    },
    {
      "cell_type": "code",
      "source": [
        "reshapearray1 = Nparray.reshape(1,12)\n",
        "print(reshapearray1)"
      ],
      "metadata": {
        "colab": {
          "base_uri": "https://localhost:8080/"
        },
        "id": "fxXl3l7gMOIl",
        "outputId": "2f4ee821-2cfe-4015-d688-271a032fc841"
      },
      "execution_count": 14,
      "outputs": [
        {
          "output_type": "stream",
          "name": "stdout",
          "text": [
            "[[11 12 13 14 22 23 24 25 33 34 35 36]]\n"
          ]
        }
      ]
    },
    {
      "cell_type": "markdown",
      "source": [
        "**np.arange()**"
      ],
      "metadata": {
        "id": "H7kT0t9mNAio"
      }
    },
    {
      "cell_type": "code",
      "source": [
        "array = np.arange(-10,10,2)\n",
        "print(array)\n",
        "print(array.ndim)\n",
        "print(array.shape)\n",
        "print(array.size)"
      ],
      "metadata": {
        "colab": {
          "base_uri": "https://localhost:8080/"
        },
        "id": "GA2hKI1FNH_H",
        "outputId": "5a6ccf2c-4e9b-44a2-c5c9-6d7043ccdf50"
      },
      "execution_count": 16,
      "outputs": [
        {
          "output_type": "stream",
          "name": "stdout",
          "text": [
            "[-10  -8  -6  -4  -2   0   2   4   6   8]\n",
            "1\n",
            "(10,)\n",
            "10\n"
          ]
        }
      ]
    },
    {
      "cell_type": "markdown",
      "source": [
        "**One dementional arrays not accept in to ML models**"
      ],
      "metadata": {
        "id": "gh8H8Jr8QklZ"
      }
    },
    {
      "cell_type": "code",
      "source": [
        "# 1D convert to 2D array- Convert Column vector\n",
        "# why put -1 here (No need to count element in here)\n",
        "array01= array.reshape(-1,1)\n",
        "print(array01)\n",
        "print(array01.shape)"
      ],
      "metadata": {
        "colab": {
          "base_uri": "https://localhost:8080/"
        },
        "id": "0XR7nb5DOl-S",
        "outputId": "b4a37b80-ac1c-42a0-a228-85b38e17a1e9"
      },
      "execution_count": 19,
      "outputs": [
        {
          "output_type": "stream",
          "name": "stdout",
          "text": [
            "[[-10]\n",
            " [ -8]\n",
            " [ -6]\n",
            " [ -4]\n",
            " [ -2]\n",
            " [  0]\n",
            " [  2]\n",
            " [  4]\n",
            " [  6]\n",
            " [  8]]\n",
            "(10, 1)\n"
          ]
        }
      ]
    },
    {
      "cell_type": "code",
      "source": [
        "array01= array.reshape(10,1) # we have to count element\n",
        "print(array01)\n",
        "print(array01.shape)"
      ],
      "metadata": {
        "colab": {
          "base_uri": "https://localhost:8080/"
        },
        "id": "pXq-aQ0JRIlX",
        "outputId": "7553b698-bfd0-474f-de85-52b06397cc1a"
      },
      "execution_count": 23,
      "outputs": [
        {
          "output_type": "stream",
          "name": "stdout",
          "text": [
            "[[-10]\n",
            " [ -8]\n",
            " [ -6]\n",
            " [ -4]\n",
            " [ -2]\n",
            " [  0]\n",
            " [  2]\n",
            " [  4]\n",
            " [  6]\n",
            " [  8]]\n",
            "(10, 1)\n"
          ]
        }
      ]
    },
    {
      "cell_type": "code",
      "source": [
        "# 1D convert to 2D array- Convert Row vector\n",
        "array01= array.reshape(1,-1)\n",
        "print(array01)\n",
        "print(array01.shape)"
      ],
      "metadata": {
        "colab": {
          "base_uri": "https://localhost:8080/"
        },
        "id": "kErB09PLQFqL",
        "outputId": "41e9f076-9c7d-4a84-fea0-7fade13ddbc3"
      },
      "execution_count": 20,
      "outputs": [
        {
          "output_type": "stream",
          "name": "stdout",
          "text": [
            "[[-10  -8  -6  -4  -2   0   2   4   6   8]]\n",
            "(1, 10)\n"
          ]
        }
      ]
    },
    {
      "cell_type": "markdown",
      "source": [
        "**Array Creation Routines**"
      ],
      "metadata": {
        "id": "TucsHoE3Rk6e"
      }
    },
    {
      "cell_type": "markdown",
      "source": [
        "Create a empty Array"
      ],
      "metadata": {
        "id": "YSbgkkV-Sovu"
      }
    },
    {
      "cell_type": "code",
      "source": [
        "#Create a empty Array\n",
        "\n",
        "import numpy as np\n",
        "\n",
        "EmptyArray = np.empty((3,2))\n",
        "print(EmptyArray)"
      ],
      "metadata": {
        "colab": {
          "base_uri": "https://localhost:8080/"
        },
        "id": "CwuV-yn4QLnr",
        "outputId": "f1b4089d-7c37-4aff-b4bb-636e91b4dbee"
      },
      "execution_count": 24,
      "outputs": [
        {
          "output_type": "stream",
          "name": "stdout",
          "text": [
            "[[4.87849336e-310 0.00000000e+000]\n",
            " [6.65097047e-310 6.65103361e-310]\n",
            " [6.65097047e-310 6.65103361e-310]]\n"
          ]
        }
      ]
    },
    {
      "cell_type": "code",
      "source": [
        "EmptyArrayInt = np.empty((3,2),dtype=np.int16)\n",
        "print(EmptyArrayInt)"
      ],
      "metadata": {
        "colab": {
          "base_uri": "https://localhost:8080/"
        },
        "id": "6kDcSU8USFlM",
        "outputId": "5b2ffb1c-21d3-4de5-eea0-8f00f0a42637"
      },
      "execution_count": 26,
      "outputs": [
        {
          "output_type": "stream",
          "name": "stdout",
          "text": [
            "[[-10987   7723]\n",
            " [ 22990      0]\n",
            " [     0      0]]\n"
          ]
        }
      ]
    },
    {
      "cell_type": "markdown",
      "source": [
        "zero arrays"
      ],
      "metadata": {
        "id": "Dg8mjBxvSs3J"
      }
    },
    {
      "cell_type": "code",
      "source": [
        "x = np.zeros(5)\n",
        "print(x)"
      ],
      "metadata": {
        "colab": {
          "base_uri": "https://localhost:8080/"
        },
        "id": "9uWwyTrDSxFw",
        "outputId": "236d243b-0f50-4910-919f-fc5fe3bcd2a0"
      },
      "execution_count": 27,
      "outputs": [
        {
          "output_type": "stream",
          "name": "stdout",
          "text": [
            "[0. 0. 0. 0. 0.]\n"
          ]
        }
      ]
    },
    {
      "cell_type": "code",
      "source": [
        "y = np.zeros((5,3),dtype= np.float16)\n",
        "print(y)"
      ],
      "metadata": {
        "colab": {
          "base_uri": "https://localhost:8080/"
        },
        "id": "tc0_zDWRWJ-D",
        "outputId": "c84800f1-d01e-4e42-d3f1-36ce4f090d96"
      },
      "execution_count": 29,
      "outputs": [
        {
          "output_type": "stream",
          "name": "stdout",
          "text": [
            "[[0. 0. 0.]\n",
            " [0. 0. 0.]\n",
            " [0. 0. 0.]\n",
            " [0. 0. 0.]\n",
            " [0. 0. 0.]]\n"
          ]
        }
      ]
    },
    {
      "cell_type": "code",
      "source": [
        "z = np.zeros((5,3),dtype= np.int16)\n",
        "print(z)"
      ],
      "metadata": {
        "colab": {
          "base_uri": "https://localhost:8080/"
        },
        "id": "S6g3Nzw9WnTT",
        "outputId": "b94a56ef-d78f-4e02-90e8-e677a05b8915"
      },
      "execution_count": 30,
      "outputs": [
        {
          "output_type": "stream",
          "name": "stdout",
          "text": [
            "[[0 0 0]\n",
            " [0 0 0]\n",
            " [0 0 0]\n",
            " [0 0 0]\n",
            " [0 0 0]]\n"
          ]
        }
      ]
    },
    {
      "cell_type": "code",
      "source": [
        "h= np.ones((5,3), dtype=np.int16)\n",
        "print(h)"
      ],
      "metadata": {
        "colab": {
          "base_uri": "https://localhost:8080/"
        },
        "id": "J4EHHasEW7w8",
        "outputId": "53923b10-ee89-49e0-e096-554a9327c236"
      },
      "execution_count": 31,
      "outputs": [
        {
          "output_type": "stream",
          "name": "stdout",
          "text": [
            "[[1 1 1]\n",
            " [1 1 1]\n",
            " [1 1 1]\n",
            " [1 1 1]\n",
            " [1 1 1]]\n"
          ]
        }
      ]
    },
    {
      "cell_type": "code",
      "source": [
        "n = np.arange(0,20,4, dtype=np.int16)\n",
        "print(n)"
      ],
      "metadata": {
        "colab": {
          "base_uri": "https://localhost:8080/"
        },
        "id": "xm6boi1cXaP1",
        "outputId": "b85824d3-3d1a-4fba-932e-155468c4d1e8"
      },
      "execution_count": 32,
      "outputs": [
        {
          "output_type": "stream",
          "name": "stdout",
          "text": [
            "[ 0  4  8 12 16]\n"
          ]
        }
      ]
    },
    {
      "cell_type": "code",
      "source": [
        "m = np.arange(0,20,4, dtype=np.float16)\n",
        "print(m)"
      ],
      "metadata": {
        "colab": {
          "base_uri": "https://localhost:8080/"
        },
        "id": "L7arGDDoXreB",
        "outputId": "48b52b65-1bec-4784-fb64-0f5d8ec28b85"
      },
      "execution_count": 38,
      "outputs": [
        {
          "output_type": "stream",
          "name": "stdout",
          "text": [
            "[ 0.  4.  8. 12. 16.]\n"
          ]
        }
      ]
    },
    {
      "cell_type": "code",
      "source": [
        "d= m.reshape(-1,1)\n",
        "print(d)"
      ],
      "metadata": {
        "colab": {
          "base_uri": "https://localhost:8080/"
        },
        "id": "lPSn1Z_5X-5n",
        "outputId": "f28efb39-a876-4706-f00f-a7f5da357eb7"
      },
      "execution_count": 39,
      "outputs": [
        {
          "output_type": "stream",
          "name": "stdout",
          "text": [
            "[[ 0.]\n",
            " [ 4.]\n",
            " [ 8.]\n",
            " [12.]\n",
            " [16.]]\n"
          ]
        }
      ]
    },
    {
      "cell_type": "markdown",
      "source": [
        "# **Indexing and Slicing**"
      ],
      "metadata": {
        "id": "ZtQf0Y5lYh4Y"
      }
    },
    {
      "cell_type": "code",
      "source": [
        "array = np.random.randint(0,100,(10,5)) # this numpy that has sub library call Random\n",
        "print(array)"
      ],
      "metadata": {
        "colab": {
          "base_uri": "https://localhost:8080/"
        },
        "id": "NQDjgk9uYp6Z",
        "outputId": "3877fc91-f4e3-4f58-ba39-28e3030dbf52"
      },
      "execution_count": 42,
      "outputs": [
        {
          "output_type": "stream",
          "name": "stdout",
          "text": [
            "[[71 11 74 91 72]\n",
            " [90 14 37 48 92]\n",
            " [62 82 56 75 83]\n",
            " [54 45  2 96 33]\n",
            " [ 8 41 17 76 25]\n",
            " [56 81 53 76  5]\n",
            " [33 93 13 46  9]\n",
            " [73 60 31 61 72]\n",
            " [72 18 64 82  6]\n",
            " [70 69  5 45 77]]\n"
          ]
        }
      ]
    },
    {
      "cell_type": "code",
      "source": [
        "array1 = np.random.randint(0,100,(4,3))\n",
        "array2 = np.random.randint(0,100,(4,3))\n",
        "\n",
        "array3 = array1 + array2\n",
        "print(\"array1 : \",array1)\n",
        "print(\"array2 : \",array2)\n",
        "print(\"array3 : \",array3)"
      ],
      "metadata": {
        "colab": {
          "base_uri": "https://localhost:8080/"
        },
        "id": "gdkWn6yWZ7EA",
        "outputId": "d59cfad8-eb77-4d8f-d0e2-7af70ca7ac93"
      },
      "execution_count": 46,
      "outputs": [
        {
          "output_type": "stream",
          "name": "stdout",
          "text": [
            "array1 :  [[57 71 58]\n",
            " [20 96 30]\n",
            " [80 33 67]\n",
            " [27 53  2]]\n",
            "array2 :  [[99 66 61]\n",
            " [83 97 51]\n",
            " [ 7 64 57]\n",
            " [38 14  1]]\n",
            "array3 :  [[156 137 119]\n",
            " [103 193  81]\n",
            " [ 87  97 124]\n",
            " [ 65  67   3]]\n"
          ]
        }
      ]
    },
    {
      "cell_type": "code",
      "source": [
        "array1 = np.random.randint(0,100,(4,3))\n",
        "array2 = np.random.randint(0,100,(4,3))\n",
        "\n",
        "array3 = array1 * array2\n",
        "print(\"array1 : \",array1)\n",
        "print(\"array2 : \",array2)\n",
        "print(\"array3 : \",array3)"
      ],
      "metadata": {
        "colab": {
          "base_uri": "https://localhost:8080/"
        },
        "id": "BI9Q_F59xOET",
        "outputId": "370fe717-3644-4982-8749-50495b6e708c"
      },
      "execution_count": 47,
      "outputs": [
        {
          "output_type": "stream",
          "name": "stdout",
          "text": [
            "array1 :  [[17  0 83]\n",
            " [47 35 92]\n",
            " [85 10 35]\n",
            " [11  7 80]]\n",
            "array2 :  [[26 56 64]\n",
            " [54 40 24]\n",
            " [31  5 75]\n",
            " [36  3  3]]\n",
            "array3 :  [[ 442    0 5312]\n",
            " [2538 1400 2208]\n",
            " [2635   50 2625]\n",
            " [ 396   21  240]]\n"
          ]
        }
      ]
    },
    {
      "cell_type": "code",
      "source": [
        "array1 = np.random.randint(0,100,(4,3))\n",
        "array2 = np.random.randint(0,100,(4,3))\n",
        "\n",
        "array3 = array1/10\n",
        "print(\"array1 : \",array1)\n",
        "print(\"array2 : \",array2)\n",
        "print(\"array3 : \",array3)"
      ],
      "metadata": {
        "colab": {
          "base_uri": "https://localhost:8080/"
        },
        "id": "Q4P20jKxxT5-",
        "outputId": "ce54db4d-a917-4dc5-ed8c-9f9fb66690e7"
      },
      "execution_count": 48,
      "outputs": [
        {
          "output_type": "stream",
          "name": "stdout",
          "text": [
            "array1 :  [[24 20  2]\n",
            " [65 67 21]\n",
            " [54 85 65]\n",
            " [82 28 30]]\n",
            "array2 :  [[69 56 50]\n",
            " [83 51  4]\n",
            " [71  8 91]\n",
            " [50 51 41]]\n",
            "array3 :  [[2.4 2.  0.2]\n",
            " [6.5 6.7 2.1]\n",
            " [5.4 8.5 6.5]\n",
            " [8.2 2.8 3. ]]\n"
          ]
        }
      ]
    },
    {
      "cell_type": "code",
      "source": [
        "array1 = np.random.randint(0,100,(4,3))\n",
        "array2 = np.random.randint(0,100,(3,5))\n",
        "\n",
        "array3 = np.matmul(array1, array2)\n",
        "print(\"array1 : \",array1)\n",
        "print(\"array2 : \",array2)\n",
        "print(\"array3 : \",array3)"
      ],
      "metadata": {
        "colab": {
          "base_uri": "https://localhost:8080/"
        },
        "id": "GEJ0OnmjzL3Q",
        "outputId": "984abb7e-55ff-4b2f-f0ed-7e23952f36e6"
      },
      "execution_count": 49,
      "outputs": [
        {
          "output_type": "stream",
          "name": "stdout",
          "text": [
            "array1 :  [[56 27 19]\n",
            " [ 9 43 77]\n",
            " [49 19 40]\n",
            " [78 68 86]]\n",
            "array2 :  [[16 67 84 94 84]\n",
            " [81 93 50 18 56]\n",
            " [95 51 91 90 34]]\n",
            "array3 :  [[ 4888  7232  7783  7460  6862]\n",
            " [10942  8529  9913  8550  5782]\n",
            " [ 6123  7090  8706  8548  6540]\n",
            " [14926 15936 17778 16296 13284]]\n"
          ]
        }
      ]
    },
    {
      "cell_type": "markdown",
      "source": [
        "![image.png](data:image/png;base64,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)\n",
        "\n",
        "![image.png](data:image/png;base64,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)"
      ],
      "metadata": {
        "id": "Q-t5srW30Hoy"
      }
    },
    {
      "cell_type": "code",
      "source": [
        "array = np.random.randint(0,100,(5,7))\n",
        "print(array)"
      ],
      "metadata": {
        "colab": {
          "base_uri": "https://localhost:8080/"
        },
        "id": "nnoUvz_90JJY",
        "outputId": "5444cf1c-7ab1-41e5-d552-d2a1fa2ac451"
      },
      "execution_count": 50,
      "outputs": [
        {
          "output_type": "stream",
          "name": "stdout",
          "text": [
            "[[71 31 14  0 49  5 12]\n",
            " [34 93 34 54 96  7  2]\n",
            " [51 50 46 18 28  3 13]\n",
            " [12 21 35 94 26 22 76]\n",
            " [42 87 66 92 77 78 71]]\n"
          ]
        }
      ]
    },
    {
      "cell_type": "code",
      "source": [
        "print(np.max(array))"
      ],
      "metadata": {
        "colab": {
          "base_uri": "https://localhost:8080/"
        },
        "id": "wT7cjWE01ErM",
        "outputId": "87b7f218-5dee-47c6-84c4-7b4724f63e52"
      },
      "execution_count": 51,
      "outputs": [
        {
          "output_type": "stream",
          "name": "stdout",
          "text": [
            "96\n"
          ]
        }
      ]
    },
    {
      "cell_type": "code",
      "source": [
        "#index of the max value\n",
        "\n",
        "print(np.argmax(array))"
      ],
      "metadata": {
        "colab": {
          "base_uri": "https://localhost:8080/"
        },
        "id": "qcDVe9St1Us-",
        "outputId": "a5e141b2-1908-4b03-8f6c-515c18f5c83a"
      },
      "execution_count": 52,
      "outputs": [
        {
          "output_type": "stream",
          "name": "stdout",
          "text": [
            "11\n"
          ]
        }
      ]
    },
    {
      "cell_type": "code",
      "source": [
        "print(np.max(array,axis=0))\n",
        "#take max value of each column\n",
        "#Axis = 0 mean go through column"
      ],
      "metadata": {
        "colab": {
          "base_uri": "https://localhost:8080/"
        },
        "id": "MP2BvIsc1lDp",
        "outputId": "fd63dd95-bf40-44f9-ce7e-589ee736d480"
      },
      "execution_count": 54,
      "outputs": [
        {
          "output_type": "stream",
          "name": "stdout",
          "text": [
            "[71 93 66 94 96 78 76]\n"
          ]
        }
      ]
    },
    {
      "cell_type": "code",
      "source": [
        "#With row number that include max value\n",
        "print(np.argmax(array,axis=0))"
      ],
      "metadata": {
        "colab": {
          "base_uri": "https://localhost:8080/"
        },
        "id": "s6bgIsc94-96",
        "outputId": "5d4337f2-0ee5-4c8a-b8db-ead9fa95a850"
      },
      "execution_count": 55,
      "outputs": [
        {
          "output_type": "stream",
          "name": "stdout",
          "text": [
            "[0 1 4 3 1 4 3]\n"
          ]
        }
      ]
    },
    {
      "cell_type": "code",
      "source": [
        "print(np.max(array,axis=1))\n",
        "#take max value of each row\n",
        "#Axis = 0 mean go through row"
      ],
      "metadata": {
        "colab": {
          "base_uri": "https://localhost:8080/"
        },
        "id": "OkHcP5QR5qoq",
        "outputId": "b500f33a-b22b-475b-9491-4d846bb8fc9b"
      },
      "execution_count": 56,
      "outputs": [
        {
          "output_type": "stream",
          "name": "stdout",
          "text": [
            "[71 96 51 94 92]\n"
          ]
        }
      ]
    },
    {
      "cell_type": "code",
      "source": [
        "#With column number that include max value\n",
        "print(np.argmax(array,axis=1))"
      ],
      "metadata": {
        "colab": {
          "base_uri": "https://localhost:8080/"
        },
        "id": "87Z6KOPx590T",
        "outputId": "94687dc0-a56f-4f29-ba7a-36c27f101142"
      },
      "execution_count": 57,
      "outputs": [
        {
          "output_type": "stream",
          "name": "stdout",
          "text": [
            "[0 4 0 3 3]\n"
          ]
        }
      ]
    },
    {
      "cell_type": "code",
      "source": [
        "print(np.max(array))"
      ],
      "metadata": {
        "colab": {
          "base_uri": "https://localhost:8080/"
        },
        "id": "KjnlpjZ66J9I",
        "outputId": "eca90475-9da9-4c12-9e2a-de0ebcaefb77"
      },
      "execution_count": 58,
      "outputs": [
        {
          "output_type": "stream",
          "name": "stdout",
          "text": [
            "96\n"
          ]
        }
      ]
    },
    {
      "cell_type": "code",
      "source": [
        "print(np.argmax(array))"
      ],
      "metadata": {
        "colab": {
          "base_uri": "https://localhost:8080/"
        },
        "id": "hRzbXet_6TWh",
        "outputId": "1735b6b9-f3a0-4e5c-9d1a-159cab33cd3f"
      },
      "execution_count": 59,
      "outputs": [
        {
          "output_type": "stream",
          "name": "stdout",
          "text": [
            "11\n"
          ]
        }
      ]
    },
    {
      "cell_type": "code",
      "source": [
        "print(np.sum(array))"
      ],
      "metadata": {
        "colab": {
          "base_uri": "https://localhost:8080/"
        },
        "id": "TQBM7wpz6WtE",
        "outputId": "2f6352c0-c631-4807-f33e-927bfad74db0"
      },
      "execution_count": 60,
      "outputs": [
        {
          "output_type": "stream",
          "name": "stdout",
          "text": [
            "1510\n"
          ]
        }
      ]
    },
    {
      "cell_type": "code",
      "source": [
        "print(array[0][2])"
      ],
      "metadata": {
        "colab": {
          "base_uri": "https://localhost:8080/"
        },
        "id": "08BrdJaX6ad3",
        "outputId": "cfe77afa-6506-4be6-af24-d455f355d802"
      },
      "execution_count": 61,
      "outputs": [
        {
          "output_type": "stream",
          "name": "stdout",
          "text": [
            "14\n"
          ]
        }
      ]
    },
    {
      "cell_type": "code",
      "source": [
        "print(array[0:3][2:4])"
      ],
      "metadata": {
        "colab": {
          "base_uri": "https://localhost:8080/"
        },
        "id": "N2Mkx-E86oBV",
        "outputId": "e89166d6-bb61-4755-8a3a-49669ccbbfbe"
      },
      "execution_count": 63,
      "outputs": [
        {
          "output_type": "stream",
          "name": "stdout",
          "text": [
            "[[51 50 46 18 28  3 13]]\n"
          ]
        }
      ]
    },
    {
      "cell_type": "markdown",
      "source": [
        "# **Slicing**"
      ],
      "metadata": {
        "id": "xZOPHPH37qOw"
      }
    },
    {
      "cell_type": "code",
      "source": [
        "array = np.random.randint(0,100,(5,10))\n",
        "print(array)"
      ],
      "metadata": {
        "colab": {
          "base_uri": "https://localhost:8080/"
        },
        "id": "1Y-bJWmY7y3B",
        "outputId": "c39c75a3-fb2b-4fc5-efd3-914d50f11a6b"
      },
      "execution_count": 65,
      "outputs": [
        {
          "output_type": "stream",
          "name": "stdout",
          "text": [
            "[[24 93 60 48 88 64 94 53 18 10]\n",
            " [ 2 88  9 60 84 14 50 17 76 13]\n",
            " [79 46 77 62 28 64 84 45 67 71]\n",
            " [56 70 55 31 14 30 78 49 64 73]\n",
            " [27 56 13 93 84 53 46 65 78  2]]\n"
          ]
        }
      ]
    },
    {
      "cell_type": "code",
      "source": [
        "print(array[0,0])\n",
        "print(array[2,3])"
      ],
      "metadata": {
        "colab": {
          "base_uri": "https://localhost:8080/"
        },
        "id": "supp2k5jHDz5",
        "outputId": "e9018b30-535d-46c3-98bf-32b054ddd109"
      },
      "execution_count": 67,
      "outputs": [
        {
          "output_type": "stream",
          "name": "stdout",
          "text": [
            "24\n",
            "62\n"
          ]
        }
      ]
    },
    {
      "cell_type": "code",
      "source": [
        "print(array[0:2,0:4])"
      ],
      "metadata": {
        "colab": {
          "base_uri": "https://localhost:8080/"
        },
        "id": "4UHN51VGHVLc",
        "outputId": "06544a52-605a-4f67-9d49-f7633d9e651e"
      },
      "execution_count": 70,
      "outputs": [
        {
          "output_type": "stream",
          "name": "stdout",
          "text": [
            "[[24 93 60 48]\n",
            " [ 2 88  9 60]]\n"
          ]
        }
      ]
    },
    {
      "cell_type": "code",
      "source": [
        "print(array[:,0:4])"
      ],
      "metadata": {
        "colab": {
          "base_uri": "https://localhost:8080/"
        },
        "id": "4i2ojUzFHvxU",
        "outputId": "267383e9-4038-437f-ad09-46c44cfd60d0"
      },
      "execution_count": 71,
      "outputs": [
        {
          "output_type": "stream",
          "name": "stdout",
          "text": [
            "[[24 93 60 48]\n",
            " [ 2 88  9 60]\n",
            " [79 46 77 62]\n",
            " [56 70 55 31]\n",
            " [27 56 13 93]]\n"
          ]
        }
      ]
    }
  ]
}