{
  "nbformat": 4,
  "nbformat_minor": 0,
  "metadata": {
    "colab": {
      "provenance": []
    },
    "kernelspec": {
      "name": "python3",
      "display_name": "Python 3"
    },
    "language_info": {
      "name": "python"
    }
  },
  "cells": [
    {
      "cell_type": "code",
      "execution_count": 4,
      "metadata": {
        "id": "uk-Say5-T3Bi"
      },
      "outputs": [],
      "source": [
        "import pandas as pd\n",
        "dataset = pd.read_csv('student-marks.csv')"
      ]
    },
    {
      "cell_type": "code",
      "source": [
        "print(dataset)"
      ],
      "metadata": {
        "colab": {
          "base_uri": "https://localhost:8080/"
        },
        "id": "w3qBoRUqW_Mt",
        "outputId": "b35584b5-0cc7-4055-e45d-82c9208f542c"
      },
      "execution_count": 5,
      "outputs": [
        {
          "output_type": "stream",
          "name": "stdout",
          "text": [
            "        Name  Maths  Physics  Chemistry\n",
            "0       John     45       22         98\n",
            "1    William     44       23          2\n",
            "2      Henry     22       89         35\n",
            "3      Chris     88       55         23\n",
            "4       Jack     45       89         45\n",
            "5   Stephane     64       45         48\n",
            "6     Harald     12       12         12\n",
            "7     Hearmy     78       94         65\n",
            "8     Sinsel     98       95         23\n",
            "9     George     45       65         89\n",
            "10     James     64       32         26\n",
            "11      Jade     23       78         47\n",
            "12     Tommy     45       98         14\n",
            "13     Yonus     78       45         44\n",
            "14     Randy     95       12         84\n",
            "15       Rex     31       95         98\n",
            "16    Tucsan     77       32         56\n",
            "17     Amell     87       78         34\n",
            "18       Vin     65       45         78\n",
            "19    Hector     32       12         78\n"
          ]
        }
      ]
    },
    {
      "cell_type": "code",
      "source": [
        "dataset = dataset.values\n",
        "print(dataset)"
      ],
      "metadata": {
        "colab": {
          "base_uri": "https://localhost:8080/"
        },
        "id": "0XwcfcQpXRmb",
        "outputId": "9b9f603a-6a5f-4a06-fd99-e52cb3eaa931"
      },
      "execution_count": 6,
      "outputs": [
        {
          "output_type": "stream",
          "name": "stdout",
          "text": [
            "[['John' 45 22 98]\n",
            " ['William' 44 23 2]\n",
            " ['Henry' 22 89 35]\n",
            " ['Chris' 88 55 23]\n",
            " ['Jack' 45 89 45]\n",
            " ['Stephane' 64 45 48]\n",
            " ['Harald' 12 12 12]\n",
            " ['Hearmy' 78 94 65]\n",
            " ['Sinsel' 98 95 23]\n",
            " ['George' 45 65 89]\n",
            " ['James' 64 32 26]\n",
            " ['Jade' 23 78 47]\n",
            " ['Tommy' 45 98 14]\n",
            " ['Yonus' 78 45 44]\n",
            " ['Randy' 95 12 84]\n",
            " ['Rex' 31 95 98]\n",
            " ['Tucsan' 77 32 56]\n",
            " ['Amell' 87 78 34]\n",
            " ['Vin' 65 45 78]\n",
            " ['Hector' 32 12 78]]\n"
          ]
        }
      ]
    },
    {
      "cell_type": "code",
      "source": [
        "import numpy as np\n",
        "avg = np.mean(dataset[:,1:], axis = 1)\n",
        "print(avg)"
      ],
      "metadata": {
        "colab": {
          "base_uri": "https://localhost:8080/"
        },
        "id": "qaAMKbaEYDja",
        "outputId": "eaf5a506-22ae-4de8-bb74-74203a796b37"
      },
      "execution_count": 10,
      "outputs": [
        {
          "output_type": "stream",
          "name": "stdout",
          "text": [
            "[55.0 23.0 48.666666666666664 55.333333333333336 59.666666666666664\n",
            " 52.333333333333336 12.0 79.0 72.0 66.33333333333333 40.666666666666664\n",
            " 49.333333333333336 52.333333333333336 55.666666666666664\n",
            " 63.666666666666664 74.66666666666667 55.0 66.33333333333333\n",
            " 62.666666666666664 40.666666666666664]\n"
          ]
        }
      ]
    },
    {
      "cell_type": "code",
      "source": [
        "def findGrade(mark):\n",
        "    if(mark>=0 and mark<35):\n",
        "        grade='F'\n",
        "    elif(mark>=35 and mark<45):\n",
        "        grade='S'\n",
        "    elif(mark>=45 and mark<65):\n",
        "        grade='C'\n",
        "    elif(mark>=65 and mark<75):\n",
        "        grade='B'\n",
        "    elif(mark>=75 and mark<=100):\n",
        "        grade='A'\n",
        "    return grade"
      ],
      "metadata": {
        "id": "4itcI8-aZ-sn"
      },
      "execution_count": 11,
      "outputs": []
    },
    {
      "cell_type": "code",
      "source": [
        "mathsGrades = np.array([findGrade(i) for i in dataset[:,1]])\n",
        "print(mathsGrades)"
      ],
      "metadata": {
        "colab": {
          "base_uri": "https://localhost:8080/"
        },
        "id": "tC3qGdyBatfD",
        "outputId": "f0945011-089f-4c40-ce53-d0e3d87eb64d"
      },
      "execution_count": 12,
      "outputs": [
        {
          "output_type": "stream",
          "name": "stdout",
          "text": [
            "['C' 'S' 'F' 'A' 'C' 'C' 'F' 'A' 'A' 'C' 'C' 'F' 'C' 'A' 'A' 'F' 'A' 'A'\n",
            " 'B' 'F']\n"
          ]
        }
      ]
    },
    {
      "cell_type": "code",
      "source": [
        "mathsGrades = mathsGrades.reshape(-1,1)\n",
        "print(mathsGrades)"
      ],
      "metadata": {
        "colab": {
          "base_uri": "https://localhost:8080/"
        },
        "id": "4EMPs2cgbh1D",
        "outputId": "5fa5626c-90b1-4316-98f1-5b7567b0e68a"
      },
      "execution_count": 13,
      "outputs": [
        {
          "output_type": "stream",
          "name": "stdout",
          "text": [
            "[['C']\n",
            " ['S']\n",
            " ['F']\n",
            " ['A']\n",
            " ['C']\n",
            " ['C']\n",
            " ['F']\n",
            " ['A']\n",
            " ['A']\n",
            " ['C']\n",
            " ['C']\n",
            " ['F']\n",
            " ['C']\n",
            " ['A']\n",
            " ['A']\n",
            " ['F']\n",
            " ['A']\n",
            " ['A']\n",
            " ['B']\n",
            " ['F']]\n"
          ]
        }
      ]
    },
    {
      "cell_type": "code",
      "source": [
        "phyGrades = np.array([findGrade(i) for i in dataset[:,2]])\n",
        "phyGrades = phyGrades.reshape(-1,1)\n",
        "print(phyGrades)"
      ],
      "metadata": {
        "colab": {
          "base_uri": "https://localhost:8080/"
        },
        "id": "jJ5KUFTVb-Ug",
        "outputId": "9045e7ec-7e32-4ebf-b38f-d90e4db3566d"
      },
      "execution_count": 27,
      "outputs": [
        {
          "output_type": "stream",
          "name": "stdout",
          "text": [
            "[['F']\n",
            " ['F']\n",
            " ['A']\n",
            " ['C']\n",
            " ['A']\n",
            " ['C']\n",
            " ['F']\n",
            " ['A']\n",
            " ['A']\n",
            " ['B']\n",
            " ['F']\n",
            " ['A']\n",
            " ['A']\n",
            " ['C']\n",
            " ['F']\n",
            " ['A']\n",
            " ['F']\n",
            " ['A']\n",
            " ['C']\n",
            " ['F']]\n"
          ]
        }
      ]
    },
    {
      "cell_type": "code",
      "source": [
        "chemGrades = np.array([findGrade(i) for i  in dataset[:,3]])\n",
        "chemGrades = chemGrades.reshape(-1,1)\n",
        "print(chemGrades)\n"
      ],
      "metadata": {
        "colab": {
          "base_uri": "https://localhost:8080/"
        },
        "id": "VwoItq9hcusP",
        "outputId": "b6fee360-ff08-4625-ef60-35a4ee4ffcbb"
      },
      "execution_count": 19,
      "outputs": [
        {
          "output_type": "stream",
          "name": "stdout",
          "text": [
            "[['A']\n",
            " ['F']\n",
            " ['S']\n",
            " ['F']\n",
            " ['C']\n",
            " ['C']\n",
            " ['F']\n",
            " ['B']\n",
            " ['F']\n",
            " ['A']\n",
            " ['F']\n",
            " ['C']\n",
            " ['F']\n",
            " ['S']\n",
            " ['A']\n",
            " ['A']\n",
            " ['C']\n",
            " ['F']\n",
            " ['A']\n",
            " ['A']]\n"
          ]
        }
      ]
    },
    {
      "cell_type": "code",
      "source": [
        "avg = avg.reshape(-1,1)\n",
        "print(avg)"
      ],
      "metadata": {
        "colab": {
          "base_uri": "https://localhost:8080/"
        },
        "id": "sbeTVjDfeYAF",
        "outputId": "963863f2-b234-4da3-b426-bece33a21b15"
      },
      "execution_count": 20,
      "outputs": [
        {
          "output_type": "stream",
          "name": "stdout",
          "text": [
            "[[55.0]\n",
            " [23.0]\n",
            " [48.666666666666664]\n",
            " [55.333333333333336]\n",
            " [59.666666666666664]\n",
            " [52.333333333333336]\n",
            " [12.0]\n",
            " [79.0]\n",
            " [72.0]\n",
            " [66.33333333333333]\n",
            " [40.666666666666664]\n",
            " [49.333333333333336]\n",
            " [52.333333333333336]\n",
            " [55.666666666666664]\n",
            " [63.666666666666664]\n",
            " [74.66666666666667]\n",
            " [55.0]\n",
            " [66.33333333333333]\n",
            " [62.666666666666664]\n",
            " [40.666666666666664]]\n"
          ]
        }
      ]
    },
    {
      "cell_type": "code",
      "source": [
        "print(dataset)"
      ],
      "metadata": {
        "colab": {
          "base_uri": "https://localhost:8080/"
        },
        "id": "rNfIGos4e4ta",
        "outputId": "7449681c-0c2b-4a53-8354-2ee984620cd8"
      },
      "execution_count": 23,
      "outputs": [
        {
          "output_type": "stream",
          "name": "stdout",
          "text": [
            "[['John' 45 22 98]\n",
            " ['William' 44 23 2]\n",
            " ['Henry' 22 89 35]\n",
            " ['Chris' 88 55 23]\n",
            " ['Jack' 45 89 45]\n",
            " ['Stephane' 64 45 48]\n",
            " ['Harald' 12 12 12]\n",
            " ['Hearmy' 78 94 65]\n",
            " ['Sinsel' 98 95 23]\n",
            " ['George' 45 65 89]\n",
            " ['James' 64 32 26]\n",
            " ['Jade' 23 78 47]\n",
            " ['Tommy' 45 98 14]\n",
            " ['Yonus' 78 45 44]\n",
            " ['Randy' 95 12 84]\n",
            " ['Rex' 31 95 98]\n",
            " ['Tucsan' 77 32 56]\n",
            " ['Amell' 87 78 34]\n",
            " ['Vin' 65 45 78]\n",
            " ['Hector' 32 12 78]]\n"
          ]
        }
      ]
    },
    {
      "cell_type": "code",
      "source": [
        "dataset = np.append(dataset, mathsGrades,axis=1)\n",
        "print(dataset)"
      ],
      "metadata": {
        "colab": {
          "base_uri": "https://localhost:8080/"
        },
        "id": "HZ93bp7pe549",
        "outputId": "ebb331e3-f435-4d69-cb03-49e7b83c52a9"
      },
      "execution_count": 24,
      "outputs": [
        {
          "output_type": "stream",
          "name": "stdout",
          "text": [
            "[['John' 45 22 98 'C']\n",
            " ['William' 44 23 2 'S']\n",
            " ['Henry' 22 89 35 'F']\n",
            " ['Chris' 88 55 23 'A']\n",
            " ['Jack' 45 89 45 'C']\n",
            " ['Stephane' 64 45 48 'C']\n",
            " ['Harald' 12 12 12 'F']\n",
            " ['Hearmy' 78 94 65 'A']\n",
            " ['Sinsel' 98 95 23 'A']\n",
            " ['George' 45 65 89 'C']\n",
            " ['James' 64 32 26 'C']\n",
            " ['Jade' 23 78 47 'F']\n",
            " ['Tommy' 45 98 14 'C']\n",
            " ['Yonus' 78 45 44 'A']\n",
            " ['Randy' 95 12 84 'A']\n",
            " ['Rex' 31 95 98 'F']\n",
            " ['Tucsan' 77 32 56 'A']\n",
            " ['Amell' 87 78 34 'A']\n",
            " ['Vin' 65 45 78 'B']\n",
            " ['Hector' 32 12 78 'F']]\n"
          ]
        }
      ]
    },
    {
      "cell_type": "code",
      "source": [
        "dataset=np.append(dataset,phyGrades,axis=1)\n",
        "print(dataset)"
      ],
      "metadata": {
        "colab": {
          "base_uri": "https://localhost:8080/"
        },
        "id": "1EKtO2iSf6eY",
        "outputId": "f5c3d8a4-66d6-4bc1-fc59-41420fd06587"
      },
      "execution_count": 28,
      "outputs": [
        {
          "output_type": "stream",
          "name": "stdout",
          "text": [
            "[['John' 45 22 98 'C' 'F']\n",
            " ['William' 44 23 2 'S' 'F']\n",
            " ['Henry' 22 89 35 'F' 'A']\n",
            " ['Chris' 88 55 23 'A' 'C']\n",
            " ['Jack' 45 89 45 'C' 'A']\n",
            " ['Stephane' 64 45 48 'C' 'C']\n",
            " ['Harald' 12 12 12 'F' 'F']\n",
            " ['Hearmy' 78 94 65 'A' 'A']\n",
            " ['Sinsel' 98 95 23 'A' 'A']\n",
            " ['George' 45 65 89 'C' 'B']\n",
            " ['James' 64 32 26 'C' 'F']\n",
            " ['Jade' 23 78 47 'F' 'A']\n",
            " ['Tommy' 45 98 14 'C' 'A']\n",
            " ['Yonus' 78 45 44 'A' 'C']\n",
            " ['Randy' 95 12 84 'A' 'F']\n",
            " ['Rex' 31 95 98 'F' 'A']\n",
            " ['Tucsan' 77 32 56 'A' 'F']\n",
            " ['Amell' 87 78 34 'A' 'A']\n",
            " ['Vin' 65 45 78 'B' 'C']\n",
            " ['Hector' 32 12 78 'F' 'F']]\n"
          ]
        }
      ]
    },
    {
      "cell_type": "code",
      "source": [
        "dataset=np.append(dataset,chemGrades,axis=1)\n",
        "print(dataset)"
      ],
      "metadata": {
        "colab": {
          "base_uri": "https://localhost:8080/"
        },
        "id": "fM1ZMOzzf8zX",
        "outputId": "2362b116-29cb-46cc-c112-1f2687d87a64"
      },
      "execution_count": 29,
      "outputs": [
        {
          "output_type": "stream",
          "name": "stdout",
          "text": [
            "[['John' 45 22 98 'C' 'F' 'A']\n",
            " ['William' 44 23 2 'S' 'F' 'F']\n",
            " ['Henry' 22 89 35 'F' 'A' 'S']\n",
            " ['Chris' 88 55 23 'A' 'C' 'F']\n",
            " ['Jack' 45 89 45 'C' 'A' 'C']\n",
            " ['Stephane' 64 45 48 'C' 'C' 'C']\n",
            " ['Harald' 12 12 12 'F' 'F' 'F']\n",
            " ['Hearmy' 78 94 65 'A' 'A' 'B']\n",
            " ['Sinsel' 98 95 23 'A' 'A' 'F']\n",
            " ['George' 45 65 89 'C' 'B' 'A']\n",
            " ['James' 64 32 26 'C' 'F' 'F']\n",
            " ['Jade' 23 78 47 'F' 'A' 'C']\n",
            " ['Tommy' 45 98 14 'C' 'A' 'F']\n",
            " ['Yonus' 78 45 44 'A' 'C' 'S']\n",
            " ['Randy' 95 12 84 'A' 'F' 'A']\n",
            " ['Rex' 31 95 98 'F' 'A' 'A']\n",
            " ['Tucsan' 77 32 56 'A' 'F' 'C']\n",
            " ['Amell' 87 78 34 'A' 'A' 'F']\n",
            " ['Vin' 65 45 78 'B' 'C' 'A']\n",
            " ['Hector' 32 12 78 'F' 'F' 'A']]\n"
          ]
        }
      ]
    },
    {
      "cell_type": "code",
      "source": [
        "dataset=np.append(dataset,avg,axis=1)\n",
        "print(dataset)"
      ],
      "metadata": {
        "colab": {
          "base_uri": "https://localhost:8080/"
        },
        "id": "YAPWtoLqgnuf",
        "outputId": "af175899-9536-4895-f5a4-d0ddd3508c4d"
      },
      "execution_count": 30,
      "outputs": [
        {
          "output_type": "stream",
          "name": "stdout",
          "text": [
            "[['John' 45 22 98 'C' 'F' 'A' 55.0]\n",
            " ['William' 44 23 2 'S' 'F' 'F' 23.0]\n",
            " ['Henry' 22 89 35 'F' 'A' 'S' 48.666666666666664]\n",
            " ['Chris' 88 55 23 'A' 'C' 'F' 55.333333333333336]\n",
            " ['Jack' 45 89 45 'C' 'A' 'C' 59.666666666666664]\n",
            " ['Stephane' 64 45 48 'C' 'C' 'C' 52.333333333333336]\n",
            " ['Harald' 12 12 12 'F' 'F' 'F' 12.0]\n",
            " ['Hearmy' 78 94 65 'A' 'A' 'B' 79.0]\n",
            " ['Sinsel' 98 95 23 'A' 'A' 'F' 72.0]\n",
            " ['George' 45 65 89 'C' 'B' 'A' 66.33333333333333]\n",
            " ['James' 64 32 26 'C' 'F' 'F' 40.666666666666664]\n",
            " ['Jade' 23 78 47 'F' 'A' 'C' 49.333333333333336]\n",
            " ['Tommy' 45 98 14 'C' 'A' 'F' 52.333333333333336]\n",
            " ['Yonus' 78 45 44 'A' 'C' 'S' 55.666666666666664]\n",
            " ['Randy' 95 12 84 'A' 'F' 'A' 63.666666666666664]\n",
            " ['Rex' 31 95 98 'F' 'A' 'A' 74.66666666666667]\n",
            " ['Tucsan' 77 32 56 'A' 'F' 'C' 55.0]\n",
            " ['Amell' 87 78 34 'A' 'A' 'F' 66.33333333333333]\n",
            " ['Vin' 65 45 78 'B' 'C' 'A' 62.666666666666664]\n",
            " ['Hector' 32 12 78 'F' 'F' 'A' 40.666666666666664]]\n"
          ]
        }
      ]
    },
    {
      "cell_type": "code",
      "source": [
        "np.save('new-dataset',dataset)"
      ],
      "metadata": {
        "id": "dXEzQg5jgqnI"
      },
      "execution_count": 31,
      "outputs": []
    },
    {
      "cell_type": "code",
      "source": [
        "df= pd.DataFrame(data = dataset)\n",
        "print(df)"
      ],
      "metadata": {
        "colab": {
          "base_uri": "https://localhost:8080/"
        },
        "id": "GZ8nG9uPs5Pq",
        "outputId": "0c22fa96-61f5-4f58-df8e-7b20663ed72c"
      },
      "execution_count": 34,
      "outputs": [
        {
          "output_type": "stream",
          "name": "stdout",
          "text": [
            "           0   1   2   3  4  5  6          7\n",
            "0       John  45  22  98  C  F  A       55.0\n",
            "1    William  44  23   2  S  F  F       23.0\n",
            "2      Henry  22  89  35  F  A  S  48.666667\n",
            "3      Chris  88  55  23  A  C  F  55.333333\n",
            "4       Jack  45  89  45  C  A  C  59.666667\n",
            "5   Stephane  64  45  48  C  C  C  52.333333\n",
            "6     Harald  12  12  12  F  F  F       12.0\n",
            "7     Hearmy  78  94  65  A  A  B       79.0\n",
            "8     Sinsel  98  95  23  A  A  F       72.0\n",
            "9     George  45  65  89  C  B  A  66.333333\n",
            "10     James  64  32  26  C  F  F  40.666667\n",
            "11      Jade  23  78  47  F  A  C  49.333333\n",
            "12     Tommy  45  98  14  C  A  F  52.333333\n",
            "13     Yonus  78  45  44  A  C  S  55.666667\n",
            "14     Randy  95  12  84  A  F  A  63.666667\n",
            "15       Rex  31  95  98  F  A  A  74.666667\n",
            "16    Tucsan  77  32  56  A  F  C       55.0\n",
            "17     Amell  87  78  34  A  A  F  66.333333\n",
            "18       Vin  65  45  78  B  C  A  62.666667\n",
            "19    Hector  32  12  78  F  F  A  40.666667\n"
          ]
        }
      ]
    },
    {
      "cell_type": "code",
      "source": [
        "df= pd.DataFrame(data= dataset, columns=[\"name\",\"maths\",\"phy\",\"chem\",\"m-grade\",\"p-grade\",\"c-grade\",\"avg\"])\n",
        "print(df)"
      ],
      "metadata": {
        "colab": {
          "base_uri": "https://localhost:8080/"
        },
        "id": "eAf6KQ5kwwRE",
        "outputId": "8631d745-4993-4eb3-a0cb-a03d72bea04a"
      },
      "execution_count": 35,
      "outputs": [
        {
          "output_type": "stream",
          "name": "stdout",
          "text": [
            "        name maths phy chem m-grade p-grade c-grade        avg\n",
            "0       John    45  22   98       C       F       A       55.0\n",
            "1    William    44  23    2       S       F       F       23.0\n",
            "2      Henry    22  89   35       F       A       S  48.666667\n",
            "3      Chris    88  55   23       A       C       F  55.333333\n",
            "4       Jack    45  89   45       C       A       C  59.666667\n",
            "5   Stephane    64  45   48       C       C       C  52.333333\n",
            "6     Harald    12  12   12       F       F       F       12.0\n",
            "7     Hearmy    78  94   65       A       A       B       79.0\n",
            "8     Sinsel    98  95   23       A       A       F       72.0\n",
            "9     George    45  65   89       C       B       A  66.333333\n",
            "10     James    64  32   26       C       F       F  40.666667\n",
            "11      Jade    23  78   47       F       A       C  49.333333\n",
            "12     Tommy    45  98   14       C       A       F  52.333333\n",
            "13     Yonus    78  45   44       A       C       S  55.666667\n",
            "14     Randy    95  12   84       A       F       A  63.666667\n",
            "15       Rex    31  95   98       F       A       A  74.666667\n",
            "16    Tucsan    77  32   56       A       F       C       55.0\n",
            "17     Amell    87  78   34       A       A       F  66.333333\n",
            "18       Vin    65  45   78       B       C       A  62.666667\n",
            "19    Hector    32  12   78       F       F       A  40.666667\n"
          ]
        }
      ]
    },
    {
      "cell_type": "code",
      "source": [
        "df.to_csv('new-dataset.csv',index=False)"
      ],
      "metadata": {
        "id": "fOFTogBsxIRA"
      },
      "execution_count": 36,
      "outputs": []
    }
  ]
}